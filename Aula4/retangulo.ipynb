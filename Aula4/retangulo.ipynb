{
 "cells": [
  {
   "cell_type": "code",
   "execution_count": 69,
   "metadata": {
    "ExecuteTime": {
     "end_time": "2016-07-08T01:56:12.535000",
     "start_time": "2016-07-08T01:56:12.147000"
    }
   },
   "outputs": [],
   "source": [
    "import numpy as np\n",
    "import matplotlib.pyplot as plt\n",
    "import matplotlib\n",
    "%matplotlib inline\n",
    "\n",
    "from tensorflow.keras.models import Sequential\n",
    "from tensorflow.keras.layers import Dense, Activation, Dropout\n",
    "from tensorflow.keras.optimizers import SGD\n",
    "\n",
    "from tensorflow.keras.layers import Dense, Activation, Dropout, Convolution2D, MaxPooling2D, Flatten, Conv2D"
   ]
  },
  {
   "cell_type": "markdown",
   "metadata": {},
   "source": [
    "# Criando imagens aleatórias com retangulos e bounding boxes"
   ]
  },
  {
   "cell_type": "code",
   "execution_count": 70,
   "metadata": {
    "ExecuteTime": {
     "end_time": "2016-07-08T01:56:14.210000",
     "start_time": "2016-07-08T01:56:13.200000"
    }
   },
   "outputs": [
    {
     "data": {
      "text/plain": [
       "((50000, 8, 8), (50000, 1, 4))"
      ]
     },
     "execution_count": 70,
     "metadata": {},
     "output_type": "execute_result"
    }
   ],
   "source": [
    "num_imgs = 50000\n",
    "\n",
    "img_size = 8\n",
    "min_object_size = 1\n",
    "max_object_size = 4\n",
    "num_objects = 1\n",
    "\n",
    "bboxes = np.zeros((num_imgs, num_objects, 4))\n",
    "imgs = np.zeros((num_imgs, img_size, img_size))  #background = 0\n",
    "\n",
    "for i_img in range(num_imgs):\n",
    "    for i_object in range(num_objects):\n",
    "        w, h = np.random.randint(min_object_size, max_object_size, size=2)\n",
    "        x = np.random.randint(0, img_size - w)\n",
    "        y = np.random.randint(0, img_size - h)\n",
    "        imgs[i_img, x:x+w, y:y+h] = 1.  # set rectangle to 1\n",
    "        bboxes[i_img, i_object] = [x, y, w, h]\n",
    "        \n",
    "imgs.shape, bboxes.shape"
   ]
  },
  {
   "cell_type": "code",
   "execution_count": 71,
   "metadata": {
    "ExecuteTime": {
     "end_time": "2016-07-08T01:56:15.125000",
     "start_time": "2016-07-08T01:56:14.870000"
    }
   },
   "outputs": [
    {
     "data": {
      "image/png": "[encoded data removed]",
      "text/plain": [
       "<Figure size 432x288 with 1 Axes>"
      ]
     },
     "metadata": {
      "needs_background": "light"
     },
     "output_type": "display_data"
    }
   ],
   "source": [
    "i = 0\n",
    "plt.imshow(imgs[i].T, cmap='Greys', interpolation='none', origin='lower', extent=[0, img_size, 0, img_size])\n",
    "for bbox in bboxes[i]:\n",
    "    plt.gca().add_patch(matplotlib.patches.Rectangle((bbox[0], bbox[1]), bbox[2], bbox[3], ec='r', fc='none'))"
   ]
  },
  {
   "cell_type": "markdown",
   "metadata": {},
   "source": [
    "# Reshape and normalize média 0 std 1. "
   ]
  },
  {
   "cell_type": "code",
   "execution_count": 72,
   "metadata": {
    "ExecuteTime": {
     "end_time": "2016-07-08T01:56:15.930000",
     "start_time": "2016-07-08T01:56:15.803000"
    }
   },
   "outputs": [
    {
     "data": {
      "text/plain": [
       "((50000, 64), -4.2503778274749495e-17, 1.0000000000000004)"
      ]
     },
     "execution_count": 72,
     "metadata": {},
     "output_type": "execute_result"
    }
   ],
   "source": [
    "X = (imgs.reshape(num_imgs, -1) - np.mean(imgs)) / np.std(imgs)\n",
    "X.shape, np.mean(X), np.std(X)"
   ]
  },
  {
   "cell_type": "code",
   "execution_count": 73,
   "metadata": {
    "ExecuteTime": {
     "end_time": "2016-07-08T01:56:16.558000",
     "start_time": "2016-07-08T01:56:16.548000"
    }
   },
   "outputs": [
    {
     "data": {
      "text/plain": [
       "((50000, 4), 0.28106625, 0.17540145199210153)"
      ]
     },
     "execution_count": 73,
     "metadata": {},
     "output_type": "execute_result"
    }
   ],
   "source": [
    "y = bboxes.reshape(num_imgs, -1) / img_size\n",
    "y.shape, np.mean(y), np.std(y)"
   ]
  },
  {
   "cell_type": "markdown",
   "metadata": {},
   "source": [
    "# Treino e teste"
   ]
  },
  {
   "cell_type": "code",
   "execution_count": 83,
   "metadata": {
    "ExecuteTime": {
     "end_time": "2016-07-08T01:56:17.198000",
     "start_time": "2016-07-08T01:56:17.192000"
    }
   },
   "outputs": [
    {
     "data": {
      "text/plain": [
       "4"
      ]
     },
     "execution_count": 83,
     "metadata": {},
     "output_type": "execute_result"
    }
   ],
   "source": [
    "i = int(0.8 * num_imgs)\n",
    "train_X = X[:i]\n",
    "test_X = X[i:]\n",
    "train_y = y[:i]\n",
    "test_y = y[i:]\n",
    "test_imgs = imgs[i:]\n",
    "test_bboxes = bboxes[i:]\n",
    "y.shape[-1]"
   ]
  },
  {
   "cell_type": "markdown",
   "metadata": {},
   "source": [
    "# Modelo MLP\n",
    "* X - imagem em uma linha\n",
    "* y - coordenadas do bound box (x,y) , (x,y)"
   ]
  },
  {
   "cell_type": "code",
   "execution_count": 84,
   "metadata": {
    "ExecuteTime": {
     "end_time": "2016-07-08T01:56:21.616000",
     "start_time": "2016-07-08T01:56:17.964000"
    }
   },
   "outputs": [],
   "source": [
    "model = Sequential([\n",
    "        Dense(200, input_dim=X.shape[-1]), \n",
    "        Activation('relu'), \n",
    "        Dropout(0.2), \n",
    "        Dense(y.shape[-1])\n",
    "    ])\n",
    "model.compile('adadelta', 'mse')"
   ]
  },
  {
   "cell_type": "code",
   "execution_count": 93,
   "metadata": {
    "ExecuteTime": {
     "end_time": "2016-07-08T01:57:19.973000",
     "start_time": "2016-07-08T01:56:21.618000"
    },
    "scrolled": true
   },
   "outputs": [
    {
     "name": "stdout",
     "output_type": "stream",
     "text": [
      "Epoch 1/30\n",
      "1250/1250 - 4s - loss: 0.5887 - val_loss: 0.5558\n",
      "Epoch 2/30\n",
      "1250/1250 - 3s - loss: 0.5287 - val_loss: 0.4977\n",
      "Epoch 3/30\n",
      "1250/1250 - 3s - loss: 0.4727 - val_loss: 0.4453\n",
      "Epoch 4/30\n",
      "1250/1250 - 3s - loss: 0.4235 - val_loss: 0.3997\n",
      "Epoch 5/30\n",
      "1250/1250 - 3s - loss: 0.3800 - val_loss: 0.3588\n",
      "Epoch 6/30\n",
      "1250/1250 - 3s - loss: 0.3414 - val_loss: 0.3229\n",
      "Epoch 7/30\n",
      "1250/1250 - 3s - loss: 0.3075 - val_loss: 0.2913\n",
      "Epoch 8/30\n",
      "1250/1250 - 4s - loss: 0.2777 - val_loss: 0.2636\n",
      "Epoch 9/30\n",
      "1250/1250 - 3s - loss: 0.2517 - val_loss: 0.2394\n",
      "Epoch 10/30\n",
      "1250/1250 - 3s - loss: 0.2290 - val_loss: 0.2183\n",
      "Epoch 11/30\n",
      "1250/1250 - 3s - loss: 0.2093 - val_loss: 0.1999\n",
      "Epoch 12/30\n",
      "1250/1250 - 3s - loss: 0.1920 - val_loss: 0.1838\n",
      "Epoch 13/30\n",
      "1250/1250 - 3s - loss: 0.1768 - val_loss: 0.1696\n",
      "Epoch 14/30\n",
      "1250/1250 - 3s - loss: 0.1635 - val_loss: 0.1572\n",
      "Epoch 15/30\n",
      "1250/1250 - 3s - loss: 0.1519 - val_loss: 0.1464\n",
      "Epoch 16/30\n",
      "1250/1250 - 3s - loss: 0.1418 - val_loss: 0.1369\n",
      "Epoch 17/30\n",
      "1250/1250 - 3s - loss: 0.1328 - val_loss: 0.1285\n",
      "Epoch 18/30\n",
      "1250/1250 - 3s - loss: 0.1249 - val_loss: 0.1211\n",
      "Epoch 19/30\n",
      "1250/1250 - 3s - loss: 0.1178 - val_loss: 0.1145\n",
      "Epoch 20/30\n",
      "1250/1250 - 3s - loss: 0.1115 - val_loss: 0.1084\n",
      "Epoch 21/30\n",
      "1250/1250 - 3s - loss: 0.1055 - val_loss: 0.1026\n",
      "Epoch 22/30\n",
      "1250/1250 - 3s - loss: 0.1001 - val_loss: 0.0975\n",
      "Epoch 23/30\n",
      "1250/1250 - 3s - loss: 0.0951 - val_loss: 0.0928\n",
      "Epoch 24/30\n",
      "1250/1250 - 3s - loss: 0.0905 - val_loss: 0.0885\n",
      "Epoch 25/30\n",
      "1250/1250 - 3s - loss: 0.0864 - val_loss: 0.0846\n",
      "Epoch 26/30\n",
      "1250/1250 - 3s - loss: 0.0826 - val_loss: 0.0809\n",
      "Epoch 27/30\n",
      "1250/1250 - 3s - loss: 0.0790 - val_loss: 0.0775\n",
      "Epoch 28/30\n",
      "1250/1250 - 3s - loss: 0.0757 - val_loss: 0.0744\n",
      "Epoch 29/30\n",
      "1250/1250 - 3s - loss: 0.0726 - val_loss: 0.0714\n",
      "Epoch 30/30\n",
      "1250/1250 - 3s - loss: 0.0697 - val_loss: 0.0686\n"
     ]
    },
    {
     "data": {
      "text/plain": [
       "<tensorflow.python.keras.callbacks.History at 0x7f5d7066d430>"
      ]
     },
     "execution_count": 93,
     "metadata": {},
     "output_type": "execute_result"
    }
   ],
   "source": [
    "model.fit(train_X, train_y, epochs=30, validation_data=(test_X, test_y), verbose=2)"
   ]
  },
  {
   "cell_type": "markdown",
   "metadata": {},
   "source": [
    "# predição de bounding boxes "
   ]
  },
  {
   "cell_type": "code",
   "execution_count": 94,
   "metadata": {
    "ExecuteTime": {
     "end_time": "2016-07-08T01:57:20.286000",
     "start_time": "2016-07-08T01:57:19.975000"
    }
   },
   "outputs": [
    {
     "data": {
      "text/plain": [
       "(10000, 1, 4)"
      ]
     },
     "execution_count": 94,
     "metadata": {},
     "output_type": "execute_result"
    }
   ],
   "source": [
    "pred_y = model.predict(test_X)\n",
    "pred_bboxes = pred_y * img_size\n",
    "pred_bboxes = pred_bboxes.reshape(len(pred_bboxes), num_objects, -1)\n",
    "pred_bboxes.shape"
   ]
  },
  {
   "cell_type": "markdown",
   "metadata": {},
   "source": [
    "# função para calcular a intersecção entre dois bounding boxes"
   ]
  },
  {
   "cell_type": "code",
   "execution_count": 95,
   "metadata": {
    "ExecuteTime": {
     "end_time": "2016-07-08T01:57:20.311000",
     "start_time": "2016-07-08T01:57:20.289000"
    }
   },
   "outputs": [],
   "source": [
    "def IOU(bbox1, bbox2):\n",
    "    x1, y1, w1, h1 = bbox1[0], bbox1[1], bbox1[2], bbox1[3]\n",
    "    x2, y2, w2, h2 = bbox2[0], bbox2[1], bbox2[2], bbox2[3]\n",
    "\n",
    "    w_I = min(x1 + w1, x2 + w2) - max(x1, x2)\n",
    "    h_I = min(y1 + h1, y2 + h2) - max(y1, y2)\n",
    "    if w_I <= 0 or h_I <= 0:  # no overlap\n",
    "        return 0.\n",
    "    I = w_I * h_I\n",
    "\n",
    "    U = w1 * h1 + w2 * h2 - I\n",
    "\n",
    "    return I / U"
   ]
  },
  {
   "cell_type": "markdown",
   "metadata": {},
   "source": [
    "# avaliando algumas predições"
   ]
  },
  {
   "cell_type": "code",
   "execution_count": 96,
   "metadata": {
    "ExecuteTime": {
     "end_time": "2016-07-08T02:01:30.216000",
     "start_time": "2016-07-08T02:01:29.481000"
    }
   },
   "outputs": [
    {
     "data": {
      "image/png": "[encoded data removed]",
      "text/plain": [
       "<Figure size 864x216 with 4 Axes>"
      ]
     },
     "metadata": {
      "needs_background": "light"
     },
     "output_type": "display_data"
    }
   ],
   "source": [
    "\n",
    "plt.figure(figsize=(12, 3))\n",
    "for i_subplot in range(1, 5):\n",
    "    plt.subplot(1, 4, i_subplot)\n",
    "    i = np.random.randint(len(test_imgs))\n",
    "    plt.imshow(test_imgs[i].T, cmap='Greys', interpolation='none', origin='lower', extent=[0, img_size, 0, img_size])\n",
    "    for pred_bbox, exp_bbox in zip(pred_bboxes[i], test_bboxes[i]):\n",
    "        plt.gca().add_patch(matplotlib.patches.Rectangle((pred_bbox[0], pred_bbox[1]), pred_bbox[2], pred_bbox[3], ec='r', fc='none'))\n",
    "        plt.annotate('IOU: {:.2f}'.format(IOU(pred_bbox, exp_bbox)), (pred_bbox[0], pred_bbox[1]+pred_bbox[3]+0.2), color='r')\n"
   ]
  },
  {
   "cell_type": "markdown",
   "metadata": {},
   "source": [
    "# mean IOU (overlap) entre bound boxes predito e original"
   ]
  },
  {
   "cell_type": "code",
   "execution_count": 97,
   "metadata": {
    "ExecuteTime": {
     "end_time": "2016-07-08T02:01:45.826000",
     "start_time": "2016-07-08T02:01:45.738000"
    }
   },
   "outputs": [
    {
     "data": {
      "text/plain": [
       "0.04184047076555755"
      ]
     },
     "execution_count": 97,
     "metadata": {},
     "output_type": "execute_result"
    }
   ],
   "source": [
    "summed_IOU = 0.\n",
    "for pred_bbox, test_bbox in zip(pred_bboxes.reshape(-1, 4), test_bboxes.reshape(-1, 4)):\n",
    "    summed_IOU += IOU(pred_bbox, test_bbox)\n",
    "mean_IOU = summed_IOU / len(pred_bboxes)\n",
    "mean_IOU"
   ]
  },
  {
   "cell_type": "code",
   "execution_count": null,
   "metadata": {
    "collapsed": true
   },
   "outputs": [],
   "source": []
  }
 ],
 "metadata": {
  "kernelspec": {
   "display_name": "Python 3",
   "language": "python",
   "name": "python3"
  },
  "language_info": {
   "codemirror_mode": {
    "name": "ipython",
    "version": 3
   },
   "file_extension": ".py",
   "mimetype": "text/x-python",
   "name": "python",
   "nbconvert_exporter": "python",
   "pygments_lexer": "ipython3",
   "version": "3.8.5"
  }
 },
 "nbformat": 4,
 "nbformat_minor": 1
}
